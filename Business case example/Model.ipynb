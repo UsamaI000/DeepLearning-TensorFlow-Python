{
 "cells": [
  {
   "cell_type": "markdown",
   "metadata": {},
   "source": [
    "Batching of the data"
   ]
  },
  {
   "cell_type": "code",
   "execution_count": 15,
   "metadata": {},
   "outputs": [],
   "source": [
    "import numpy as np"
   ]
  },
  {
   "cell_type": "code",
   "execution_count": 48,
   "metadata": {},
   "outputs": [],
   "source": [
    "import numpy as np\n",
    "\n",
    "class Audiobooks_Data_Reader():\n",
    "    def __init__(self, dataset, batch_size = None):\n",
    "        \n",
    "        npz = np.load('Audiobooks_data_{0}.npz'.format(dataset))\n",
    "        self.inputs, self.targets = npz['inputs'].astype(np.float), npz['targets'].astype(np.int)\n",
    "        \n",
    "        if batch_size is None:\n",
    "            self.batch_size = self.inputs.shape[0]\n",
    "        else:\n",
    "            self.batch_size = batch_size\n",
    "        self.curr_batch = 0\n",
    "        self.batch_count = self.inputs.shape[0] // self.batch_size\n",
    "    \n",
    "    def __next__(self):\n",
    "        \n",
    "        if self.curr_batch >= self.batch_count:\n",
    "            self.curr_batch = 0\n",
    "            raise StopIteration()\n",
    "            \n",
    "\n",
    "        batch_slice = slice(self.curr_batch * self.batch_size, (self.curr_batch + 1) * self.batch_size)\n",
    "        inputs_batch = self.inputs[batch_slice]\n",
    "        targets_batch = self.targets[batch_slice]\n",
    "        self.curr_batch += 1\n",
    "\n",
    "        classes_num = 2\n",
    "        targets_one_hot = np.zeros((targets_batch.shape[0], classes_num))\n",
    "        targets_one_hot[range(targets_batch.shape[0]), targets_batch] = 1\n",
    "        return inputs_batch, targets_one_hot\n",
    "    \n",
    "    def __iter__(self):\n",
    "        return self"
   ]
  },
  {
   "cell_type": "markdown",
   "metadata": {},
   "source": [
    "Our model"
   ]
  },
  {
   "cell_type": "code",
   "execution_count": 51,
   "metadata": {},
   "outputs": [
    {
     "name": "stdout",
     "output_type": "stream",
     "text": [
      "Epoch 1. Training loss: 0.591. Validation loss: 0.482. Validation accuracy: 74.27%\n",
      "Epoch 2. Training loss: 0.464. Validation loss: 0.397. Validation accuracy: 78.75%\n",
      "Epoch 3. Training loss: 0.408. Validation loss: 0.365. Validation accuracy: 80.76%\n",
      "Epoch 4. Training loss: 0.383. Validation loss: 0.350. Validation accuracy: 80.76%\n",
      "Epoch 5. Training loss: 0.369. Validation loss: 0.341. Validation accuracy: 81.21%\n",
      "Epoch 6. Training loss: 0.360. Validation loss: 0.336. Validation accuracy: 81.21%\n",
      "Epoch 7. Training loss: 0.354. Validation loss: 0.331. Validation accuracy: 81.21%\n",
      "Epoch 8. Training loss: 0.348. Validation loss: 0.328. Validation accuracy: 81.43%\n",
      "Epoch 9. Training loss: 0.344. Validation loss: 0.326. Validation accuracy: 82.10%\n",
      "Epoch 10. Training loss: 0.341. Validation loss: 0.323. Validation accuracy: 82.10%\n",
      "Epoch 11. Training loss: 0.338. Validation loss: 0.322. Validation accuracy: 82.10%\n",
      "Epoch 12. Training loss: 0.335. Validation loss: 0.320. Validation accuracy: 82.10%\n",
      "Epoch 13. Training loss: 0.333. Validation loss: 0.319. Validation accuracy: 82.10%\n",
      "Epoch 14. Training loss: 0.332. Validation loss: 0.318. Validation accuracy: 82.33%\n",
      "Epoch 15. Training loss: 0.330. Validation loss: 0.317. Validation accuracy: 82.33%\n",
      "Epoch 16. Training loss: 0.329. Validation loss: 0.317. Validation accuracy: 82.33%\n",
      "Epoch 17. Training loss: 0.327. Validation loss: 0.316. Validation accuracy: 82.33%\n",
      "Epoch 18. Training loss: 0.326. Validation loss: 0.315. Validation accuracy: 82.33%\n",
      "Epoch 19. Training loss: 0.325. Validation loss: 0.315. Validation accuracy: 82.55%\n",
      "Epoch 20. Training loss: 0.324. Validation loss: 0.314. Validation accuracy: 82.33%\n",
      "Epoch 21. Training loss: 0.323. Validation loss: 0.313. Validation accuracy: 82.55%\n",
      "Epoch 22. Training loss: 0.323. Validation loss: 0.313. Validation accuracy: 82.55%\n",
      "Epoch 23. Training loss: 0.322. Validation loss: 0.313. Validation accuracy: 82.77%\n",
      "Epoch 24. Training loss: 0.321. Validation loss: 0.312. Validation accuracy: 82.77%\n",
      "Epoch 25. Training loss: 0.321. Validation loss: 0.312. Validation accuracy: 82.77%\n",
      "Epoch 26. Training loss: 0.320. Validation loss: 0.311. Validation accuracy: 82.77%\n",
      "Epoch 27. Training loss: 0.319. Validation loss: 0.311. Validation accuracy: 82.77%\n",
      "Epoch 28. Training loss: 0.319. Validation loss: 0.311. Validation accuracy: 82.77%\n",
      "Epoch 29. Training loss: 0.318. Validation loss: 0.311. Validation accuracy: 82.55%\n",
      "---------------------Traning hsa ended-------------------------\n"
     ]
    }
   ],
   "source": [
    "import tensorflow as tf\n",
    "\n",
    "input_size = 10\n",
    "output_size = 2\n",
    "hidden_layer_size = 50\n",
    "\n",
    "tf.reset_default_graph()\n",
    "\n",
    "inputs = tf.placeholder(tf.float32, [None, input_size])\n",
    "targets = tf.placeholder(tf.int32, [None, output_size])\n",
    "\n",
    "weights_1 = tf.get_variable(\"weights_1\", [input_size, hidden_layer_size])\n",
    "biases_1 = tf.get_variable(\"biases_1\", [hidden_layer_size])\n",
    "\n",
    "outputs_1 = tf.nn.relu(tf.matmul(inputs,weights_1) + biases_1)\n",
    "\n",
    "\n",
    "weights_2 = tf.get_variable(\"weights_2\", [hidden_layer_size, hidden_layer_size])\n",
    "biases_2 = tf.get_variable(\"biases_2\",[hidden_layer_size])\n",
    "\n",
    "outputs_2 = tf.nn.relu(tf.matmul(outputs_1,weights_2) + biases_2)\n",
    "\n",
    "\n",
    "weights_3 = tf.get_variable(\"weights_3\", [hidden_layer_size, output_size])\n",
    "biases_3 = tf.get_variable(\"biases_3\", [output_size])\n",
    "\n",
    "outputs = tf.matmul(outputs_2, weights_3) + biases_3\n",
    "\n",
    "\n",
    "loss = tf.nn.softmax_cross_entropy_with_logits(logits = outputs, labels = targets)\n",
    "\n",
    "mean_loss = tf.reduce_mean(loss)\n",
    "\n",
    "optimize = tf.train.AdamOptimizer(learning_rate=0.001).minimize(mean_loss)\n",
    "\n",
    "out_equals_target = tf.equal(tf.argmax(outputs,1), tf.argmax(targets,1))\n",
    "\n",
    "accuracy = tf.reduce_mean(tf.cast(out_equals_target, tf.float32))\n",
    "\n",
    "\n",
    "sess = tf.InteractiveSession()\n",
    "\n",
    "initializer = tf.global_variables_initializer()\n",
    "\n",
    "sess.run(initializer)\n",
    "\n",
    "\n",
    "batch_size = 100\n",
    "\n",
    "max_epochs = 50\n",
    "\n",
    "prev_validation_loss = 9999999.\n",
    "\n",
    "train_data = Audiobooks_Data_Reader('train', batch_size)\n",
    "validation_data = Audiobooks_Data_Reader ('validation')\n",
    "\n",
    "for epoch_counter in range(max_epochs):\n",
    "    \n",
    "    curr_epoch_loss = 0.\n",
    "    \n",
    "    for input_batch, target_batch in train_data:\n",
    "        _, batch_loss = sess.run([optimize, mean_loss], \n",
    "            feed_dict={inputs: input_batch, targets: target_batch})\n",
    "        \n",
    "        curr_epoch_loss += batch_loss\n",
    "        \n",
    "    curr_epoch_loss /= train_data.batch_count\n",
    "    \n",
    "    validation_loss = 0.\n",
    "    validation_accuracy = 0.\n",
    "    \n",
    "    for input_batch, target_batch in validation_data:\n",
    "        validation_loss, validation_accuracy = sess.run([mean_loss, accuracy], \n",
    "        feed_dict={inputs: input_batch, targets: target_batch})   \n",
    "        \n",
    "    print('Epoch '+str(epoch_counter+1)+\n",
    "          '. Training loss: '+'{0:.3f}'.format(curr_epoch_loss)+\n",
    "          '. Validation loss: '+'{0:.3f}'.format(validation_loss)+\n",
    "          '. Validation accuracy: '+'{0:.2f}'.format(validation_accuracy * 100.)+'%')\n",
    "    \n",
    "    if validation_loss > prev_validation_loss:\n",
    "        break\n",
    "        \n",
    "    prev_validation_loss = validation_loss\n",
    "    \n",
    "print('---------------------Traning has ended-------------------------')"
   ]
  },
  {
   "cell_type": "markdown",
   "metadata": {},
   "source": [
    "Test the model"
   ]
  },
  {
   "cell_type": "code",
   "execution_count": 50,
   "metadata": {},
   "outputs": [
    {
     "name": "stdout",
     "output_type": "stream",
     "text": [
      "Validation accuracy: 82.77%\n"
     ]
    }
   ],
   "source": [
    "test_data = Audiobooks_Data_Reader ('test')\n",
    "_input_batch, _target_batch = test_data.__next__()\n",
    "test_accuracy = sess.run([accuracy], feed_dict={inputs: _input_batch, targets: _target_batch})\n",
    "\n",
    "test_accuracy_percent = test_accuracy*100\n",
    "print('Validation accuracy: '+'{0:.2f}'.format(validation_accuracy * 100.)+'%')"
   ]
  },
  {
   "cell_type": "code",
   "execution_count": null,
   "metadata": {},
   "outputs": [],
   "source": []
  }
 ],
 "metadata": {
  "kernelspec": {
   "display_name": "Python 3",
   "language": "python",
   "name": "python3"
  },
  "language_info": {
   "codemirror_mode": {
    "name": "ipython",
    "version": 3
   },
   "file_extension": ".py",
   "mimetype": "text/x-python",
   "name": "python",
   "nbconvert_exporter": "python",
   "pygments_lexer": "ipython3",
   "version": "3.7.1"
  }
 },
 "nbformat": 4,
 "nbformat_minor": 2
}
